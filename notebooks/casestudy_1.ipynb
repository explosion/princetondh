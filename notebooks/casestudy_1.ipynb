{
  "nbformat": 4,
  "nbformat_minor": 0,
  "metadata": {
    "colab": {
      "provenance": []
    },
    "kernelspec": {
      "name": "python3",
      "display_name": "Python 3"
    },
    "language_info": {
      "name": "python"
    },
    "accelerator": "GPU",
    "gpuClass": "standard"
  },
  "cells": [
    {
      "cell_type": "markdown",
      "source": [
        "Find the full project [on GitHub](https://github.com/explosion/projects/tree/v3/tutorials/spanruler_restaurant_reviews) or read [the blog post](https://blog.victoriaslocum.com/post/spanruler-ner-data)!"
      ],
      "metadata": {
        "id": "z_vSf26gQXdV"
      }
    },
    {
      "cell_type": "code",
      "source": [
        "import locale\n",
        "locale.getpreferredencoding = lambda: \"UTF-8\""
      ],
      "metadata": {
        "id": "17oGrtOq7lDh"
      },
      "execution_count": 10,
      "outputs": []
    },
    {
      "cell_type": "code",
      "source": [
        "!pip install spacy\n",
        "!pip install srsly"
      ],
      "metadata": {
        "id": "phD7HpjKQ07d"
      },
      "execution_count": null,
      "outputs": []
    },
    {
      "cell_type": "code",
      "source": [
        "!python -m spacy project clone tutorials/spanruler_restaurant_reviews"
      ],
      "metadata": {
        "id": "8_7ZZ0IIRYho"
      },
      "execution_count": null,
      "outputs": []
    },
    {
      "cell_type": "code",
      "source": [
        "cd /content/spanruler_restaurant_reviews"
      ],
      "metadata": {
        "id": "_vHBU7y1VOVt"
      },
      "execution_count": null,
      "outputs": []
    },
    {
      "cell_type": "code",
      "source": [
        "!python -m spacy project assets"
      ],
      "metadata": {
        "id": "XLzhGPvHVo4Z"
      },
      "execution_count": null,
      "outputs": []
    },
    {
      "cell_type": "code",
      "source": [
        "!ls assets/"
      ],
      "metadata": {
        "id": "mjUpKa3k7GJe"
      },
      "execution_count": null,
      "outputs": []
    },
    {
      "cell_type": "code",
      "source": [
        "!head assets/train_raw.iob"
      ],
      "metadata": {
        "id": "3_Yr8GT77ZNZ"
      },
      "execution_count": null,
      "outputs": []
    },
    {
      "cell_type": "code",
      "execution_count": 7,
      "metadata": {
        "id": "Jur0wtiUSsPs"
      },
      "outputs": [],
      "source": [
        "import spacy\n",
        "import srsly\n",
        "from spacy import displacy\n",
        "from pprint import pprint"
      ]
    },
    {
      "cell_type": "code",
      "source": [
        "train_data = srsly.read_jsonl(\"/content/spanruler_restaurant_reviews/assets/train_review.jsonl\")\n",
        "\n",
        "example_1 = list(train_data)[0]\n",
        "\n",
        "pprint(example_1)"
      ],
      "metadata": {
        "id": "euwBnbkVTEuB"
      },
      "execution_count": null,
      "outputs": []
    },
    {
      "cell_type": "markdown",
      "source": [
        "Download model:"
      ],
      "metadata": {
        "id": "EznhRhrBzCgU"
      }
    },
    {
      "cell_type": "code",
      "source": [
        "!gdown 1PCH7BA2JIToIP77cr7jT7I7ougFEigaB"
      ],
      "metadata": {
        "id": "cHSv2tVh7RTe"
      },
      "execution_count": null,
      "outputs": []
    },
    {
      "cell_type": "code",
      "source": [
        "!unzip /content/spanruler_restaurant_reviews/ner_review.zip\n",
        "!mv ner_review training/ner_review"
      ],
      "metadata": {
        "id": "S9oHv8VPqAsU"
      },
      "execution_count": null,
      "outputs": []
    },
    {
      "cell_type": "code",
      "source": [
        "!rm -r /content/spanruler_restaurant_reviews/ner_review.zip"
      ],
      "metadata": {
        "id": "9ayfQQ9f7955"
      },
      "execution_count": 13,
      "outputs": []
    },
    {
      "cell_type": "markdown",
      "source": [
        "We're providing the model for you in the previous cell so you don't have to run this \n",
        "\n",
        "🔽 This takes about 2 hours to run"
      ],
      "metadata": {
        "id": "2lrgY5AhpyyM"
      }
    },
    {
      "cell_type": "code",
      "source": [
        "# !python -m spacy project run train-review"
      ],
      "metadata": {
        "id": "rnTwuKS2QQPa"
      },
      "execution_count": null,
      "outputs": []
    },
    {
      "cell_type": "code",
      "source": [
        "text = \"find me a cheap chinese restaurant with at least 3 stars\"\n",
        "\n",
        "nlp = spacy.load(\"/content/spanruler_restaurant_reviews/training/ner_review/model-best\")\n",
        "doc = nlp(text)\n",
        "\n",
        "displacy.render(doc, style=\"ent\", jupyter=True)"
      ],
      "metadata": {
        "id": "bZ_63PDSrLxB"
      },
      "execution_count": null,
      "outputs": []
    },
    {
      "cell_type": "code",
      "source": [
        "nlp = spacy.blank(\"en\")\n",
        "\n",
        "ruler = nlp.add_pipe(\"span_ruler\", config={'spans_filter': {'@misc': 'spacy.first_longest_spans_filter.v1'}})\n",
        "patterns = [{ \n",
        "   \"label\": \"Rating\", \n",
        "   \"pattern\": [ \n",
        "      {\"LOWER\": \"at\", \"OP\": \"?\"}, \n",
        "      {\"LOWER\": \"least\", \"OP\": \"?\"}, \n",
        "      {\"IS_DIGIT\": True}, \n",
        "      {\"LOWER\": {\"REGEX\": \"star(s)?\"}}, \n",
        "      {\"LOWER\": {\"REGEX\": \"rat(ed|ing|ings)?\"}, \"OP\": \"?\"}, \n",
        "    ], \n",
        "},]\n",
        "ruler.add_patterns(patterns)\n",
        "\n",
        "doc = nlp(\"find me a restaurant with at least 3 stars\")\n",
        "print([(span.text, span.label_) for span in doc.spans[\"ruler\"]])\n",
        "# displacy.render(doc, style=\"ent\", jupyter=True)"
      ],
      "metadata": {
        "id": "S5YEzMYrr0Im"
      },
      "execution_count": null,
      "outputs": []
    },
    {
      "cell_type": "markdown",
      "source": [
        "**Time to write your own rules!** See if you can find a rule to match both \"less than 4 miles\" and \"less than 1 mile from here\""
      ],
      "metadata": {
        "id": "pakY0WOqQ8wV"
      }
    },
    {
      "cell_type": "code",
      "source": [
        "text_1 = \"find me a chinese restaurant less than 4 miles\"\n",
        "text_2 = \"where is a good indian restaurant less than 1 mile from here\"\n",
        "\n",
        "nlp = spacy.blank(\"en\")\n",
        "\n",
        "ruler = nlp.add_pipe(\"span_ruler\", config={'spans_filter': {'@misc': 'spacy.first_longest_spans_filter.v1'}})\n",
        "patterns = [{ \n",
        "   \"label\": \"Location\", \n",
        "   \"pattern\": [\n",
        "          ...\n",
        "    ], \n",
        "},]\n",
        "ruler.add_patterns(patterns)\n",
        "\n",
        "doc_1 = nlp(text_1)\n",
        "print([(span.text, span.label_) for span in doc_1.spans[\"ruler\"]])\n",
        "\n",
        "doc_2 = nlp(text_2)\n",
        "print([(span.text, span.label_) for span in doc_2.spans[\"ruler\"]])"
      ],
      "metadata": {
        "id": "NMxQJogdwqPa"
      },
      "execution_count": null,
      "outputs": []
    },
    {
      "cell_type": "markdown",
      "source": [
        "We can now assemble our trained NER model with our SpanRuler model. We've written rules contained in `scripts/rules_review.py`. \n",
        "\n",
        "If you're ever confused on what a command does, you can add `--help` to the end of it"
      ],
      "metadata": {
        "id": "Qc19-ZMYRKTC"
      }
    },
    {
      "cell_type": "code",
      "source": [
        "!python -m spacy project run download"
      ],
      "metadata": {
        "id": "L4qOtiRs8Zzk"
      },
      "execution_count": null,
      "outputs": []
    },
    {
      "cell_type": "code",
      "source": [
        "!python -m spacy project run prodigy-convert"
      ],
      "metadata": {
        "id": "d7bJawij9F3p"
      },
      "execution_count": null,
      "outputs": []
    },
    {
      "cell_type": "code",
      "source": [
        "!python -m spacy project run assemble-review"
      ],
      "metadata": {
        "id": "dmOHgpw0yhRi"
      },
      "execution_count": null,
      "outputs": []
    },
    {
      "cell_type": "code",
      "source": [
        "!python -m spacy project run evaluate-review"
      ],
      "metadata": {
        "id": "Jt56YiT501dV"
      },
      "execution_count": null,
      "outputs": []
    },
    {
      "cell_type": "code",
      "source": [
        "text = \"where is the closest sushi bars to my zip code\"\n",
        "\n",
        "nlp = spacy.load(\"/content/spanruler_restaurant_reviews/models/ner_ruler_review\")\n",
        "doc = nlp(text)\n",
        "\n",
        "displacy.render(doc, style=\"ent\", jupyter=True)"
      ],
      "metadata": {
        "id": "RTsT7w5I-LJp"
      },
      "execution_count": null,
      "outputs": []
    }
  ]
}
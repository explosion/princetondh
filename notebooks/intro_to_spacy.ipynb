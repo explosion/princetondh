{
  "nbformat": 4,
  "nbformat_minor": 0,
  "metadata": {
    "colab": {
      "provenance": []
    },
    "kernelspec": {
      "name": "python3",
      "display_name": "Python 3"
    },
    "language_info": {
      "name": "python"
    }
  },
  "cells": [
    {
      "cell_type": "markdown",
      "source": [
        "Get more info in the [spaCy docs](https://spacy.io) or learn more with the [Intro to spaCy course](https://course.spacy.io/en/chapter1)! "
      ],
      "metadata": {
        "id": "Fj4v0w0hQcDn"
      }
    },
    {
      "cell_type": "code",
      "execution_count": null,
      "metadata": {
        "id": "trBJZ5mDQQTY"
      },
      "outputs": [],
      "source": [
        "import spacy\n",
        "from spacy import displacy"
      ]
    },
    {
      "cell_type": "code",
      "source": [
        "# load the small English model\n",
        "nlp = spacy.load(\"en_core_web_sm\")"
      ],
      "metadata": {
        "id": "PZ0w1dtjneU_"
      },
      "execution_count": null,
      "outputs": []
    },
    {
      "cell_type": "markdown",
      "source": [
        "### Lexical Attributes\n",
        "These attributes are also called lexical attributes: they refer to the entry in the vocabulary and don't depend on the token's context."
      ],
      "metadata": {
        "id": "Piq7wczVfNcy"
      }
    },
    {
      "cell_type": "code",
      "source": [
        "doc = nlp(\"It costs $5.\")\n",
        "\n",
        "print(\"Index: \", [token.i for token in doc]) \n",
        "print(\"Text: \", [token.text for token in doc])\n",
        " \n",
        "print(\"is_alpha:\", [token.is_alpha for token in doc]) \n",
        "print(\"is_punct:\", [token.is_punct for token in doc]) \n",
        "print(\"like_num:\", [token.like_num for token in doc])"
      ],
      "metadata": {
        "id": "67wxDssSfMkz"
      },
      "execution_count": null,
      "outputs": []
    },
    {
      "cell_type": "markdown",
      "source": [
        "### POS tags\n",
        "Model predictions on part of speech tags, like Noun, Verb, etc.\n",
        "\n",
        "https://spacy.io/usage/linguistic-features#pos-tagging"
      ],
      "metadata": {
        "id": "fx5IETbuPq42"
      }
    },
    {
      "cell_type": "code",
      "source": [
        "# Process a text\n",
        "doc = nlp(\"She ate the pizza\")\n",
        "\n",
        "# Predicting POS tags\n",
        "for token in doc:    \n",
        "  # Print the text and the predicted part-of-speech tag    \n",
        "  print(token.text, token.pos_)"
      ],
      "metadata": {
        "colab": {
          "base_uri": "https://localhost:8080/"
        },
        "id": "jsDLD2taQo34",
        "outputId": "f19258c2-d2d5-4d58-cd57-11c35e3609c8"
      },
      "execution_count": 2,
      "outputs": [
        {
          "output_type": "stream",
          "name": "stdout",
          "text": [
            "She PRON\n",
            "ate VERB\n",
            "the DET\n",
            "pizza NOUN\n"
          ]
        }
      ]
    },
    {
      "cell_type": "markdown",
      "source": [
        "### Dependency parsing\n",
        "In addition to the part-of-speech tags, we can also predict how the words are related. For example, whether a word is the subject of the sentence or an object.\n",
        "\n",
        "https://spacy.io/usage/linguistic-features#dependency-parse"
      ],
      "metadata": {
        "id": "FtuTTK25PfVB"
      }
    },
    {
      "cell_type": "code",
      "source": [
        "# predicting dependency graphs\n",
        "for token in doc:    \n",
        "  print(token.text, token.pos_, token.dep_, token.head.text)\n",
        "\n",
        "displacy.render(doc, style=\"dep\", jupyter=True)"
      ],
      "metadata": {
        "colab": {
          "base_uri": "https://localhost:8080/",
          "height": 404
        },
        "id": "LAgTIT3RRQXA",
        "outputId": "814c02b0-e845-4105-a6bc-8026e55e0bd7"
      },
      "execution_count": 3,
      "outputs": [
        {
          "output_type": "stream",
          "name": "stdout",
          "text": [
            "She PRON nsubj ate\n",
            "ate VERB ROOT ate\n",
            "the DET det pizza\n",
            "pizza NOUN dobj ate\n"
          ]
        },
        {
          "output_type": "display_data",
          "data": {
            "text/plain": [
              "<IPython.core.display.HTML object>"
            ],
            "text/html": [
              "<span class=\"tex2jax_ignore\"><svg xmlns=\"http://www.w3.org/2000/svg\" xmlns:xlink=\"http://www.w3.org/1999/xlink\" xml:lang=\"en\" id=\"9b69b8da6d484244a5be86ff24babd3b-0\" class=\"displacy\" width=\"750\" height=\"312.0\" direction=\"ltr\" style=\"max-width: none; height: 312.0px; color: #000000; background: #ffffff; font-family: Arial; direction: ltr\">\n",
              "<text class=\"displacy-token\" fill=\"currentColor\" text-anchor=\"middle\" y=\"222.0\">\n",
              "    <tspan class=\"displacy-word\" fill=\"currentColor\" x=\"50\">She</tspan>\n",
              "    <tspan class=\"displacy-tag\" dy=\"2em\" fill=\"currentColor\" x=\"50\">PRON</tspan>\n",
              "</text>\n",
              "\n",
              "<text class=\"displacy-token\" fill=\"currentColor\" text-anchor=\"middle\" y=\"222.0\">\n",
              "    <tspan class=\"displacy-word\" fill=\"currentColor\" x=\"225\">ate</tspan>\n",
              "    <tspan class=\"displacy-tag\" dy=\"2em\" fill=\"currentColor\" x=\"225\">VERB</tspan>\n",
              "</text>\n",
              "\n",
              "<text class=\"displacy-token\" fill=\"currentColor\" text-anchor=\"middle\" y=\"222.0\">\n",
              "    <tspan class=\"displacy-word\" fill=\"currentColor\" x=\"400\">the</tspan>\n",
              "    <tspan class=\"displacy-tag\" dy=\"2em\" fill=\"currentColor\" x=\"400\">DET</tspan>\n",
              "</text>\n",
              "\n",
              "<text class=\"displacy-token\" fill=\"currentColor\" text-anchor=\"middle\" y=\"222.0\">\n",
              "    <tspan class=\"displacy-word\" fill=\"currentColor\" x=\"575\">pizza</tspan>\n",
              "    <tspan class=\"displacy-tag\" dy=\"2em\" fill=\"currentColor\" x=\"575\">NOUN</tspan>\n",
              "</text>\n",
              "\n",
              "<g class=\"displacy-arrow\">\n",
              "    <path class=\"displacy-arc\" id=\"arrow-9b69b8da6d484244a5be86ff24babd3b-0-0\" stroke-width=\"2px\" d=\"M70,177.0 C70,89.5 220.0,89.5 220.0,177.0\" fill=\"none\" stroke=\"currentColor\"/>\n",
              "    <text dy=\"1.25em\" style=\"font-size: 0.8em; letter-spacing: 1px\">\n",
              "        <textPath xlink:href=\"#arrow-9b69b8da6d484244a5be86ff24babd3b-0-0\" class=\"displacy-label\" startOffset=\"50%\" side=\"left\" fill=\"currentColor\" text-anchor=\"middle\">nsubj</textPath>\n",
              "    </text>\n",
              "    <path class=\"displacy-arrowhead\" d=\"M70,179.0 L62,167.0 78,167.0\" fill=\"currentColor\"/>\n",
              "</g>\n",
              "\n",
              "<g class=\"displacy-arrow\">\n",
              "    <path class=\"displacy-arc\" id=\"arrow-9b69b8da6d484244a5be86ff24babd3b-0-1\" stroke-width=\"2px\" d=\"M420,177.0 C420,89.5 570.0,89.5 570.0,177.0\" fill=\"none\" stroke=\"currentColor\"/>\n",
              "    <text dy=\"1.25em\" style=\"font-size: 0.8em; letter-spacing: 1px\">\n",
              "        <textPath xlink:href=\"#arrow-9b69b8da6d484244a5be86ff24babd3b-0-1\" class=\"displacy-label\" startOffset=\"50%\" side=\"left\" fill=\"currentColor\" text-anchor=\"middle\">det</textPath>\n",
              "    </text>\n",
              "    <path class=\"displacy-arrowhead\" d=\"M420,179.0 L412,167.0 428,167.0\" fill=\"currentColor\"/>\n",
              "</g>\n",
              "\n",
              "<g class=\"displacy-arrow\">\n",
              "    <path class=\"displacy-arc\" id=\"arrow-9b69b8da6d484244a5be86ff24babd3b-0-2\" stroke-width=\"2px\" d=\"M245,177.0 C245,2.0 575.0,2.0 575.0,177.0\" fill=\"none\" stroke=\"currentColor\"/>\n",
              "    <text dy=\"1.25em\" style=\"font-size: 0.8em; letter-spacing: 1px\">\n",
              "        <textPath xlink:href=\"#arrow-9b69b8da6d484244a5be86ff24babd3b-0-2\" class=\"displacy-label\" startOffset=\"50%\" side=\"left\" fill=\"currentColor\" text-anchor=\"middle\">dobj</textPath>\n",
              "    </text>\n",
              "    <path class=\"displacy-arrowhead\" d=\"M575.0,179.0 L583.0,167.0 567.0,167.0\" fill=\"currentColor\"/>\n",
              "</g>\n",
              "</svg></span>"
            ]
          },
          "metadata": {}
        }
      ]
    },
    {
      "cell_type": "markdown",
      "source": [
        "### Named entities\n",
        "Named entities are \"real world objects\" that are assigned a name – for example, a person, an organization or a country.\n",
        "The doc.ents property lets you access the named entities predicted by the named entity recognition model.\n",
        "\n",
        "https://spacy.io/usage/linguistic-features#named-entities"
      ],
      "metadata": {
        "id": "vd76gHDnPXM9"
      }
    },
    {
      "cell_type": "code",
      "source": [
        "doc = nlp(\"Apple is looking at buying U.K. startup for $1 billion\")\n",
        "\n",
        "# Iterate over the predicted entities\n",
        "for ent in doc.ents:    \n",
        "  # Print the entity text and its label    \n",
        "  print(ent.text, ent.label_)\n",
        "\n",
        "displacy.render(doc, style=\"ent\", jupyter=True)"
      ],
      "metadata": {
        "colab": {
          "base_uri": "https://localhost:8080/",
          "height": 105
        },
        "id": "DRkX8KZkRxuC",
        "outputId": "f8d20014-ace0-4115-e696-64f81e700fbb"
      },
      "execution_count": 4,
      "outputs": [
        {
          "output_type": "stream",
          "name": "stdout",
          "text": [
            "Apple ORG\n",
            "U.K. GPE\n",
            "$1 billion MONEY\n"
          ]
        },
        {
          "output_type": "display_data",
          "data": {
            "text/plain": [
              "<IPython.core.display.HTML object>"
            ],
            "text/html": [
              "<span class=\"tex2jax_ignore\"><div class=\"entities\" style=\"line-height: 2.5; direction: ltr\">\n",
              "<mark class=\"entity\" style=\"background: #7aecec; padding: 0.45em 0.6em; margin: 0 0.25em; line-height: 1; border-radius: 0.35em;\">\n",
              "    Apple\n",
              "    <span style=\"font-size: 0.8em; font-weight: bold; line-height: 1; border-radius: 0.35em; vertical-align: middle; margin-left: 0.5rem\">ORG</span>\n",
              "</mark>\n",
              " is looking at buying \n",
              "<mark class=\"entity\" style=\"background: #feca74; padding: 0.45em 0.6em; margin: 0 0.25em; line-height: 1; border-radius: 0.35em;\">\n",
              "    U.K.\n",
              "    <span style=\"font-size: 0.8em; font-weight: bold; line-height: 1; border-radius: 0.35em; vertical-align: middle; margin-left: 0.5rem\">GPE</span>\n",
              "</mark>\n",
              " startup for \n",
              "<mark class=\"entity\" style=\"background: #e4e7d2; padding: 0.45em 0.6em; margin: 0 0.25em; line-height: 1; border-radius: 0.35em;\">\n",
              "    $1 billion\n",
              "    <span style=\"font-size: 0.8em; font-weight: bold; line-height: 1; border-radius: 0.35em; vertical-align: middle; margin-left: 0.5rem\">MONEY</span>\n",
              "</mark>\n",
              "</div></span>"
            ]
          },
          "metadata": {}
        }
      ]
    },
    {
      "cell_type": "markdown",
      "source": [
        "### Spans\n",
        "Unlike named entities, which have clear token boundaries and are often comprised of the same syntactic units, spans can be overlapping and composed of arbitrary phrases.\n",
        "The doc.spans property lets you access the predicted spans.\n",
        "\n",
        "https://spacy.io/api/spancategorizer"
      ],
      "metadata": {
        "id": "pT6zRRWrPB_z"
      }
    },
    {
      "cell_type": "code",
      "source": [
        "from spacy.tokens import Span \n",
        " \n",
        "doc = nlp(\"Welcome to the Bank of China.\") \n",
        "\n",
        "doc.spans[\"sc\"] = [ \n",
        "Span(doc, 3, 6, \"ORG\"), \n",
        "Span(doc, 5, 6, \"GPE\"), \n",
        "] \n",
        "\n",
        "displacy.render(doc, style=\"span\", jupyter=True)"
      ],
      "metadata": {
        "id": "n0h-PuWcSaIv",
        "colab": {
          "base_uri": "https://localhost:8080/",
          "height": 94
        },
        "outputId": "d54a385a-b74d-4e47-908f-93b95fac4d27"
      },
      "execution_count": 5,
      "outputs": [
        {
          "output_type": "display_data",
          "data": {
            "text/plain": [
              "<IPython.core.display.HTML object>"
            ],
            "text/html": [
              "<span class=\"tex2jax_ignore\"><div class=\"spans\" style=\"line-height: 2.5; direction: ltr\">Welcome to the \n",
              "<span style=\"font-weight: bold; display: inline-block; position: relative; height: 60px;\">\n",
              "    Bank\n",
              "    \n",
              "<span style=\"background: #7aecec; top: 40px; height: 4px; left: -1px; width: calc(100% + 2px); position: absolute;\">\n",
              "</span>\n",
              "\n",
              "    \n",
              "<span style=\"background: #7aecec; top: 40px; height: 4px; border-top-left-radius: 3px; border-bottom-left-radius: 3px; left: -1px; width: calc(100% + 2px); position: absolute;\">\n",
              "    <span style=\"background: #7aecec; z-index: 10; color: #000; top: -0.5em; padding: 2px 3px; position: absolute; font-size: 0.6em; font-weight: bold; line-height: 1; border-radius: 3px\">\n",
              "        ORG\n",
              "    </span>\n",
              "</span>\n",
              "\n",
              "\n",
              "</span>\n",
              "\n",
              "<span style=\"font-weight: bold; display: inline-block; position: relative; height: 60px;\">\n",
              "    of\n",
              "    \n",
              "<span style=\"background: #7aecec; top: 40px; height: 4px; left: -1px; width: calc(100% + 2px); position: absolute;\">\n",
              "</span>\n",
              "\n",
              "    \n",
              "</span>\n",
              "\n",
              "<span style=\"font-weight: bold; display: inline-block; position: relative; height: 77px;\">\n",
              "    China\n",
              "    \n",
              "<span style=\"background: #7aecec; top: 40px; height: 4px; left: -1px; width: calc(100% + 2px); position: absolute;\">\n",
              "</span>\n",
              "\n",
              "<span style=\"background: #feca74; top: 57px; height: 4px; left: -1px; width: calc(100% + 2px); position: absolute;\">\n",
              "</span>\n",
              "\n",
              "    \n",
              "<span style=\"background: #feca74; top: 57px; height: 4px; border-top-left-radius: 3px; border-bottom-left-radius: 3px; left: -1px; width: calc(100% + 2px); position: absolute;\">\n",
              "    <span style=\"background: #feca74; z-index: 10; color: #000; top: -0.5em; padding: 2px 3px; position: absolute; font-size: 0.6em; font-weight: bold; line-height: 1; border-radius: 3px\">\n",
              "        GPE\n",
              "    </span>\n",
              "</span>\n",
              "\n",
              "\n",
              "</span>\n",
              ". </div></span>"
            ]
          },
          "metadata": {}
        }
      ]
    },
    {
      "cell_type": "markdown",
      "source": [
        "### Lemmatizer\n",
        "Assigns base forms to tokens.\n",
        "\n",
        "https://spacy.io/usage/linguistic-features#lemmatization"
      ],
      "metadata": {
        "id": "EoHy46SQPAZW"
      }
    },
    {
      "cell_type": "code",
      "source": [
        "doc = nlp(\"Apples are the best fruit.\")\n",
        "\n",
        "for token in doc:\n",
        "  print(token.text, token.lemma_)"
      ],
      "metadata": {
        "colab": {
          "base_uri": "https://localhost:8080/"
        },
        "id": "-6gGf6Vs1_ni",
        "outputId": "f2fe8b9c-3741-4d88-ef10-64f60e0d5c79"
      },
      "execution_count": 6,
      "outputs": [
        {
          "output_type": "stream",
          "name": "stdout",
          "text": [
            "Apples apple\n",
            "are be\n",
            "the the\n",
            "best good\n",
            "fruit fruit\n",
            ". .\n"
          ]
        }
      ]
    },
    {
      "cell_type": "markdown",
      "source": [
        "### Sentencizer\n",
        "Custom sentence boundary detection logic without dependency parsing.\n",
        "\n",
        "https://spacy.io/api/sentencizer"
      ],
      "metadata": {
        "id": "mv4Y1IIaOyO8"
      }
    },
    {
      "cell_type": "code",
      "source": [
        "nlp = spacy.blank(\"en\")\n",
        "nlp.add_pipe(\"sentencizer\")"
      ],
      "metadata": {
        "id": "NO1WpzrEOlmN",
        "colab": {
          "base_uri": "https://localhost:8080/"
        },
        "outputId": "0f84bf02-744c-4456-ab03-ed26a5405ffe"
      },
      "execution_count": 3,
      "outputs": [
        {
          "output_type": "execute_result",
          "data": {
            "text/plain": [
              "<spacy.pipeline.sentencizer.Sentencizer at 0x7fdc60276c80>"
            ]
          },
          "metadata": {},
          "execution_count": 3
        }
      ]
    },
    {
      "cell_type": "code",
      "source": [
        "doc = nlp(\"This is a sentence. This is another sentence.\")\n",
        "\n",
        "print(\"Number of sentences: \", len(list(doc.sents)))\n",
        "\n",
        "for sent in doc.sents:\n",
        "  print(sent)"
      ],
      "metadata": {
        "colab": {
          "base_uri": "https://localhost:8080/"
        },
        "id": "CdX7ytpo2WIV",
        "outputId": "f069f2aa-1be9-4197-d51b-bcfae778fafe"
      },
      "execution_count": 4,
      "outputs": [
        {
          "output_type": "stream",
          "name": "stdout",
          "text": [
            "Number of sentences:  2\n",
            "This is a sentence.\n",
            "This is another sentence.\n"
          ]
        }
      ]
    }
  ]
}
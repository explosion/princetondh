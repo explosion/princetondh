{
  "nbformat": 4,
  "nbformat_minor": 0,
  "metadata": {
    "colab": {
      "provenance": []
    },
    "kernelspec": {
      "name": "python3",
      "display_name": "Python 3"
    },
    "language_info": {
      "name": "python"
    },
    "accelerator": "GPU",
    "gpuClass": "standard"
  },
  "cells": [
    {
      "cell_type": "markdown",
      "source": [
        "Find the full project [on GitHub](https://github.com/explosion/princetondh)"
      ],
      "metadata": {
        "id": "EBcdavFzAYER"
      }
    },
    {
      "cell_type": "code",
      "execution_count": null,
      "metadata": {
        "id": "ttvJrNMMKFUH"
      },
      "outputs": [],
      "source": [
        "!pip install spacy\n",
        "!pip install radicli\n",
        "!python -m spacy download en_core_web_lg"
      ]
    },
    {
      "cell_type": "code",
      "source": [
        "!git clone https://github.com/explosion/princetondh.git"
      ],
      "metadata": {
        "id": "f0TWKhPrK051"
      },
      "execution_count": null,
      "outputs": []
    },
    {
      "cell_type": "code",
      "source": [
        "cd /content/princetondh/litbank_pipeline"
      ],
      "metadata": {
        "id": "TGxAP3zCr3UI"
      },
      "execution_count": null,
      "outputs": []
    },
    {
      "cell_type": "code",
      "source": [
        "!python -m spacy project assets"
      ],
      "metadata": {
        "id": "Xk6w4yijsK7Y"
      },
      "execution_count": null,
      "outputs": []
    },
    {
      "cell_type": "code",
      "source": [
        "!ls assets/"
      ],
      "metadata": {
        "id": "sDdWoWTwzYVH"
      },
      "execution_count": null,
      "outputs": []
    },
    {
      "cell_type": "code",
      "source": [
        "!head assets/entities/1023_bleak_house_brat.ann"
      ],
      "metadata": {
        "id": "mRJt3iAbzXCo"
      },
      "execution_count": null,
      "outputs": []
    },
    {
      "cell_type": "code",
      "source": [
        "!head assets/entities/1023_bleak_house_brat.txt"
      ],
      "metadata": {
        "id": "XrdgWAbM0YgL"
      },
      "execution_count": null,
      "outputs": []
    },
    {
      "cell_type": "code",
      "source": [
        "!python -m spacy project run prepare-entities\n",
        "!python -m spacy project run prepare-event"
      ],
      "metadata": {
        "id": "_FDWc_FhsSuk"
      },
      "execution_count": null,
      "outputs": []
    },
    {
      "cell_type": "markdown",
      "source": [
        "Runtime -> Change runtime type -> Hardware accelorator: GPU"
      ],
      "metadata": {
        "id": "ngVDrkVCwx-M"
      }
    },
    {
      "cell_type": "code",
      "source": [
        "!python -m spacy project run tagger"
      ],
      "metadata": {
        "id": "IZt_mBRpuP3C"
      },
      "execution_count": null,
      "outputs": []
    },
    {
      "cell_type": "code",
      "source": [
        "!cat metrics/tagger_test.json"
      ],
      "metadata": {
        "colab": {
          "base_uri": "https://localhost:8080/"
        },
        "id": "p5Wv6J-ezRfI",
        "outputId": "e92fb4c0-b5e9-4f96-bfe7-b1a9ee2d76e7"
      },
      "execution_count": 7,
      "outputs": [
        {
          "output_type": "stream",
          "name": "stdout",
          "text": [
            "{\n",
            "  \"token_acc\":1.0,\n",
            "  \"token_p\":1.0,\n",
            "  \"token_r\":1.0,\n",
            "  \"token_f\":1.0,\n",
            "  \"positive_acc\":0.6052269601,\n",
            "  \"speed\":16356.1814671945\n",
            "}"
          ]
        }
      ]
    },
    {
      "cell_type": "code",
      "source": [
        "!python -m spacy project run tagger-lstm"
      ],
      "metadata": {
        "id": "yj8csAKtziig"
      },
      "execution_count": null,
      "outputs": []
    },
    {
      "cell_type": "code",
      "source": [
        "!cat metrics/tagger_lstm_test.json"
      ],
      "metadata": {
        "colab": {
          "base_uri": "https://localhost:8080/"
        },
        "id": "aw7vGb6W0FF2",
        "outputId": "a8c8c0e8-1dd2-4af9-f321-6a03bf35bd31"
      },
      "execution_count": 9,
      "outputs": [
        {
          "output_type": "stream",
          "name": "stdout",
          "text": [
            "{\n",
            "  \"token_acc\":1.0,\n",
            "  \"token_p\":1.0,\n",
            "  \"token_r\":1.0,\n",
            "  \"token_f\":1.0,\n",
            "  \"positive_acc\":0.6217331499,\n",
            "  \"speed\":39594.5974080588\n",
            "}"
          ]
        }
      ]
    },
    {
      "cell_type": "code",
      "source": [
        "!python -m spacy project run ner"
      ],
      "metadata": {
        "id": "tKPOzvYG0tyJ"
      },
      "execution_count": null,
      "outputs": []
    },
    {
      "cell_type": "code",
      "source": [
        "!cat metrics/ner_test.json"
      ],
      "metadata": {
        "id": "sIH50Q4p03mV"
      },
      "execution_count": null,
      "outputs": []
    },
    {
      "cell_type": "code",
      "source": [
        "!python -m spacy project run ner-lstm"
      ],
      "metadata": {
        "id": "FL6DmXoG05gd"
      },
      "execution_count": null,
      "outputs": []
    },
    {
      "cell_type": "code",
      "source": [
        "!cat metrics/ner_lstm_test.json"
      ],
      "metadata": {
        "id": "0-nIi7_a1AeL"
      },
      "execution_count": null,
      "outputs": []
    }
  ]
}